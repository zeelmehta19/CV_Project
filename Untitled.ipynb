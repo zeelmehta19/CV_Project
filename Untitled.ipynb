{
 "cells": [
  {
   "cell_type": "code",
   "execution_count": 22,
   "metadata": {},
   "outputs": [
    {
     "name": "stdout",
     "output_type": "stream",
     "text": [
      "6.png\n"
     ]
    },
    {
     "data": {
      "image/png": "[encoded data removed]",
      "text/plain": [
       "<Figure size 432x288 with 1 Axes>"
      ]
     },
     "metadata": {
      "needs_background": "light"
     },
     "output_type": "display_data"
    }
   ],
   "source": [
    "import util \n",
    "import matplotlib \n",
    "import matplotlib.pyplot as plt\n",
    "def plotGraph(userId):\n",
    "    c = util.Utility()\n",
    "    jobScore = c.getScores(userId)\n",
    "    cvScore = c.getCVScore(userId)\n",
    "    score = 0\n",
    "    i = 0\n",
    "    scorey = [0]\n",
    "    for scorex in jobScore:\n",
    "        scorey.append(scorex[0])\n",
    "\n",
    "    application = cvScore[2]\n",
    "\n",
    "    shortlisted = cvScore[3]\n",
    "    selected = cvScore[4]\n",
    "    hired = cvScore[5]\n",
    "    rejected = cvScore[6]\n",
    "\n",
    "\n",
    "    maxtest = application*3\n",
    "    ch = []\n",
    "    simplescore = [0]\n",
    "    s=0\n",
    "    while(maxtest > 0):\n",
    "        if(shortlisted <= application):\n",
    "            ch.append(shortlisted)\n",
    "            s = s+shortlisted\n",
    "            maxtest -=1\n",
    "            shortlisted -=1\n",
    "        if(selected <= shortlisted):\n",
    "            ch.append(selected)\n",
    "            s = s+selected\n",
    "            maxtest -=1\n",
    "            selected -=1\n",
    "        if(hired <= selected):\n",
    "            ch.append(hired)\n",
    "            s = s+hired\n",
    "            maxtest -=1\n",
    "            hired -=1\n",
    "        if(rejected <= shortlisted):\n",
    "            ch.append(-rejected)\n",
    "            s = s-rejected\n",
    "            maxtest -=1\n",
    "            rejected -=1\n",
    "        maxtest -=1\n",
    "        simplescore.append(s)\n",
    "        s=0\n",
    "    j = 1\n",
    "    app = [0]\n",
    "    for k in range(application):\n",
    "        app.append(j)\n",
    "        j +=1\n",
    "    cy = ch[::-1]\n",
    "    plt.plot(simplescore,label=\"personal scores\")\n",
    "    plt.plot(app,scorey,label = \"Score given by companies\")\n",
    "    plt.axis([0,application,-2,10])\n",
    "    plt.xlabel(\"Applications\")\n",
    "    plt.ylabel(\"Scores\")\n",
    "    plt.legend()\n",
    "    path = str(userId)+\".png\"\n",
    "    print(path)\n",
    "    plt.savefig(path)\n",
    "    return path"
   ]
  },
  {
   "cell_type": "code",
   "execution_count": null,
   "metadata": {},
   "outputs": [],
   "source": []
  }
 ],
 "metadata": {
  "kernelspec": {
   "display_name": "Python 3",
   "language": "python",
   "name": "python3"
  },
  "language_info": {
   "codemirror_mode": {
    "name": "ipython",
    "version": 3
   },
   "file_extension": ".py",
   "mimetype": "text/x-python",
   "name": "python",
   "nbconvert_exporter": "python",
   "pygments_lexer": "ipython3",
   "version": "3.6.9"
  }
 },
 "nbformat": 4,
 "nbformat_minor": 4
}
